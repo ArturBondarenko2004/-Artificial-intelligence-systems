{
  "nbformat": 4,
  "nbformat_minor": 0,
  "metadata": {
    "colab": {
      "provenance": [],
      "authorship_tag": "ABX9TyNhZCoehw4rjasNBcAXBIO9",
      "include_colab_link": true
    },
    "kernelspec": {
      "name": "python3",
      "display_name": "Python 3"
    },
    "language_info": {
      "name": "python"
    }
  },
  "cells": [
    {
      "cell_type": "markdown",
      "metadata": {
        "id": "view-in-github",
        "colab_type": "text"
      },
      "source": [
        "<a href=\"https://colab.research.google.com/github/ArturBondarenko2004/-Artificial-intelligence-systems/blob/main/LR_1_task_1_1.ipynb\" target=\"_parent\"><img src=\"https://colab.research.google.com/assets/colab-badge.svg\" alt=\"Open In Colab\"/></a>"
      ]
    },
    {
      "cell_type": "markdown",
      "source": [
        "2.1.5. Кодування міток\n"
      ],
      "metadata": {
        "id": "0-kMiuMog91L"
      }
    },
    {
      "cell_type": "code",
      "execution_count": 5,
      "metadata": {
        "colab": {
          "base_uri": "https://localhost:8080/"
        },
        "id": "mC7X-JB3gXhL",
        "outputId": "e7de6933-2ae5-48dd-a7c6-0031397b4cc6"
      },
      "outputs": [
        {
          "output_type": "stream",
          "name": "stdout",
          "text": [
            "\n",
            "Label mapping:\n",
            "black --> 0\n",
            "green --> 1\n",
            "red --> 2\n",
            "white --> 3\n",
            "yellow --> 4\n",
            "\n",
            "Labels = ['green', 'red', 'black']\n",
            "Encoded values = [1, 2, 0]\n",
            "\n",
            "Encoded values = [3, 0, 4, 1]\n",
            "Decoded labels = ['white', 'black', 'yellow', 'green']\n"
          ]
        }
      ],
      "source": [
        "import numpy as np\n",
        "from sklearn import preprocessing\n",
        "\n",
        "# Надання позначок вхідних даних\n",
        "input_labels = ['red', 'black', 'red', 'green', 'black', 'yellow', 'white']\n",
        "\n",
        "# Створення кодувальника та встановлення відповідності\n",
        "# між мітками та числами\n",
        "encoder = preprocessing.LabelEncoder()\n",
        "encoder.fit(input_labels)\n",
        "\n",
        "# Виведення відображення\n",
        "print(\"\\nLabel mapping:\")\n",
        "for i, item in enumerate(encoder.classes_):\n",
        "    print(item, '-->', i)\n",
        "\n",
        "# Перетворення міток за допомогою кодувальника\n",
        "test_labels = ['green', 'red', 'black']\n",
        "encoded_values = encoder.transform(test_labels)\n",
        "print(\"\\nLabels =\", test_labels)\n",
        "print(\"Encoded values =\", list(encoded_values))\n",
        "\n",
        "# Декодування набору чисел за допомогою декодера\n",
        "encoded_values = [3, 0, 4, 1]\n",
        "decoded_list = encoder.inverse_transform(encoded_values)\n",
        "print(\"\\nEncoded values =\", encoded_values)\n",
        "print(\"Decoded labels =\", list(decoded_list))\n"
      ]
    }
  ]
}
