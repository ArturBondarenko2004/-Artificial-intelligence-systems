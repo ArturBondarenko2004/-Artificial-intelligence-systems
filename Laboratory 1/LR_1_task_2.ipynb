{
  "nbformat": 4,
  "nbformat_minor": 0,
  "metadata": {
    "colab": {
      "provenance": [],
      "include_colab_link": true
    },
    "kernelspec": {
      "name": "python3",
      "display_name": "Python 3"
    },
    "language_info": {
      "name": "python"
    }
  },
  "cells": [
    {
      "cell_type": "markdown",
      "metadata": {
        "id": "view-in-github",
        "colab_type": "text"
      },
      "source": [
        "<a href=\"https://colab.research.google.com/github/ArturBondarenko2004/-Artificial-intelligence-systems/blob/main/LR_1_task_2.ipynb\" target=\"_parent\"><img src=\"https://colab.research.google.com/assets/colab-badge.svg\" alt=\"Open In Colab\"/></a>"
      ]
    },
    {
      "cell_type": "code",
      "execution_count": 1,
      "metadata": {
        "id": "SYsJwvtpKLgO"
      },
      "outputs": [],
      "source": [
        "import numpy as np\n",
        "from sklearn import preprocessing"
      ]
    },
    {
      "cell_type": "markdown",
      "source": [
        "2.1.1. Бінарізація"
      ],
      "metadata": {
        "id": "EnbDSFmUKjWi"
      }
    },
    {
      "cell_type": "code",
      "source": [
        "input_data = np.array([\n",
        "    [-1.3, 3.9, 4.5],\n",
        "    [-5.3, -4.2, -1.3],\n",
        "    [5.2, -6.5, -1.1],\n",
        "    [-5.2, 2.6, -2.2]\n",
        "])\n",
        "\n",
        "# Бінаризація даних\n",
        "data_binarized = preprocessing.Binarizer(threshold=3).transform(input_data)\n",
        "print(\"\\n Binarized data:\\n\", data_binarized)"
      ],
      "metadata": {
        "colab": {
          "base_uri": "https://localhost:8080/"
        },
        "id": "nmaEiXqAKWgl",
        "outputId": "583387e7-c843-4e1a-bfc0-a6eb489ab9ec"
      },
      "execution_count": 2,
      "outputs": [
        {
          "output_type": "stream",
          "name": "stdout",
          "text": [
            "\n",
            " Binarized data:\n",
            " [[0. 1. 1.]\n",
            " [0. 0. 0.]\n",
            " [1. 0. 0.]\n",
            " [0. 0. 0.]]\n"
          ]
        }
      ]
    },
    {
      "cell_type": "markdown",
      "source": [
        "2.1.2. Виключення середнього"
      ],
      "metadata": {
        "id": "lkeryWWIKnqP"
      }
    },
    {
      "cell_type": "code",
      "source": [
        "# Виведення середнього значення та стандартного відхилення\n",
        "print(\"\\nBEFORE: \")\n",
        "print(\"Mean =\", input_data.mean(axis=0))\n",
        "print(\"Std deviation =\", input_data.std(axis=0))\n",
        "\n",
        "# Виключення середнього\n",
        "data_scaled = preprocessing.scale(input_data)\n",
        "print(\"\\nAFTER: \")\n",
        "print(\"Mean =\", data_scaled.mean(axis=0))\n",
        "print(\"Std deviation =\", data_scaled.std(axis=0))"
      ],
      "metadata": {
        "colab": {
          "base_uri": "https://localhost:8080/"
        },
        "id": "UmuFH_MMKqYV",
        "outputId": "8a2f2a3e-935c-462a-9652-354f605376cf"
      },
      "execution_count": 3,
      "outputs": [
        {
          "output_type": "stream",
          "name": "stdout",
          "text": [
            "\n",
            "BEFORE: \n",
            "Mean = [-1.65  -1.05  -0.025]\n",
            "Std deviation = [4.27112397 4.40028408 2.64516068]\n",
            "\n",
            "AFTER: \n",
            "Mean = [-2.77555756e-17  5.55111512e-17  5.55111512e-17]\n",
            "Std deviation = [1. 1. 1.]\n"
          ]
        }
      ]
    },
    {
      "cell_type": "markdown",
      "source": [
        "2.1.3. Масштабування"
      ],
      "metadata": {
        "id": "lvglYcH7K1nB"
      }
    },
    {
      "cell_type": "code",
      "source": [
        "# Масштабування MinМax\n",
        "data_scaler_minmax = preprocessing.MinMaxScaler(feature_range=(0, 1))\n",
        "data_scaled_minmax = data_scaler_minmax.fit_transform(input_data)\n",
        "print(\"\\nМin max scaled data:\\n\", data_scaled_minmax)\n"
      ],
      "metadata": {
        "colab": {
          "base_uri": "https://localhost:8080/"
        },
        "id": "5D6LqgYcK2sb",
        "outputId": "f55d5510-02a9-4c2a-c700-24779b97c32b"
      },
      "execution_count": 4,
      "outputs": [
        {
          "output_type": "stream",
          "name": "stdout",
          "text": [
            "\n",
            "Мin max scaled data:\n",
            " [[0.38095238 1.         1.        ]\n",
            " [0.         0.22115385 0.13432836]\n",
            " [1.         0.         0.1641791 ]\n",
            " [0.00952381 0.875      0.        ]]\n"
          ]
        }
      ]
    },
    {
      "cell_type": "markdown",
      "source": [
        "2.1.4. Нормалізація"
      ],
      "metadata": {
        "id": "EFnPUWzdLLX8"
      }
    },
    {
      "cell_type": "code",
      "source": [
        "# Нормалізація даних\n",
        "data_normalized_l1 = preprocessing.normalize(input_data,\n",
        "norm='l1')\n",
        "data_normalized_l2 = preprocessing.normalize(input_data,\n",
        "norm='l2')\n",
        "print(\"\\nl1 normalized data:\\n\", data_normalized_l1)\n",
        "print(\"\\nl2 normalized data:\\n\", data_normalized_l2)"
      ],
      "metadata": {
        "colab": {
          "base_uri": "https://localhost:8080/"
        },
        "id": "h6AOd4RALL04",
        "outputId": "fe93c509-1604-4800-f129-34b2ded9eccc"
      },
      "execution_count": 5,
      "outputs": [
        {
          "output_type": "stream",
          "name": "stdout",
          "text": [
            "\n",
            "l1 normalized data:\n",
            " [[-0.13402062  0.40206186  0.46391753]\n",
            " [-0.49074074 -0.38888889 -0.12037037]\n",
            " [ 0.40625    -0.5078125  -0.0859375 ]\n",
            " [-0.52        0.26       -0.22      ]]\n",
            "\n",
            "l2 normalized data:\n",
            " [[-0.21328678  0.63986035  0.7383004 ]\n",
            " [-0.76965323 -0.60991388 -0.18878287]\n",
            " [ 0.61931099 -0.77413873 -0.13100809]\n",
            " [-0.83653629  0.41826814 -0.3539192 ]]\n"
          ]
        }
      ]
    }
  ]
}
