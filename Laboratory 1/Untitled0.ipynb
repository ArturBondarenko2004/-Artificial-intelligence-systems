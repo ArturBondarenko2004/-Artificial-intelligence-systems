{
  "nbformat": 4,
  "nbformat_minor": 0,
  "metadata": {
    "colab": {
      "provenance": []
    },
    "kernelspec": {
      "name": "python3",
      "display_name": "Python 3"
    },
    "language_info": {
      "name": "python"
    }
  },
  "cells": [
    {
      "cell_type": "code",
      "execution_count": 1,
      "metadata": {
        "id": "SYsJwvtpKLgO"
      },
      "outputs": [],
      "source": [
        "import numpy as np\n",
        "from sklearn import preprocessing"
      ]
    },
    {
      "cell_type": "markdown",
      "source": [
        "2.1.1. Бінарізація"
      ],
      "metadata": {
        "id": "EnbDSFmUKjWi"
      }
    },
    {
      "cell_type": "code",
      "source": [
        "input_data = np.array([[5.1, -2.9, 3.3],\n",
        " [-1.2, 7.8, -6.1],\n",
        " [3.9, 0.4, 2.1],\n",
        "[7.3, -9.9, -4.5]])\n",
        "\n",
        "# Бінаризація даних\n",
        "data_binarized = preprocessing.Binarizer(threshold=2.1).transform(input_data)\n",
        "print(\"\\n Binarized data:\\n\", data_binarized)"
      ],
      "metadata": {
        "colab": {
          "base_uri": "https://localhost:8080/"
        },
        "id": "nmaEiXqAKWgl",
        "outputId": "311cc1d4-58cf-41bc-e782-810b48b9f203"
      },
      "execution_count": 5,
      "outputs": [
        {
          "output_type": "stream",
          "name": "stdout",
          "text": [
            "\n",
            " Binarized data:\n",
            " [[1. 0. 1.]\n",
            " [0. 1. 0.]\n",
            " [1. 0. 0.]\n",
            " [1. 0. 0.]]\n"
          ]
        }
      ]
    },
    {
      "cell_type": "markdown",
      "source": [
        "2.1.2. Виключення середнього"
      ],
      "metadata": {
        "id": "lkeryWWIKnqP"
      }
    },
    {
      "cell_type": "code",
      "source": [
        "# Виведення середнього значення та стандартного відхилення\n",
        "print(\"\\nBEFORE: \")\n",
        "print(\"Mean =\", input_data.mean(axis=0))\n",
        "print(\"Std deviation =\", input_data.std(axis=0))\n",
        "\n",
        "# Виключення середнього\n",
        "data_scaled = preprocessing.scale(input_data)\n",
        "print(\"\\nAFTER: \")\n",
        "print(\"Mean =\", data_scaled.mean(axis=0))\n",
        "print(\"Std deviation =\", data_scaled.std(axis=0))"
      ],
      "metadata": {
        "colab": {
          "base_uri": "https://localhost:8080/"
        },
        "id": "UmuFH_MMKqYV",
        "outputId": "48e02066-718c-4954-d746-00bfa59e0ff4"
      },
      "execution_count": 7,
      "outputs": [
        {
          "output_type": "stream",
          "name": "stdout",
          "text": [
            "\n",
            "BEFORE: \n",
            "Mean = [ 3.775 -1.15  -1.3  ]\n",
            "Std deviation = [3.12039661 6.36651396 4.0620192 ]\n",
            "\n",
            "AFTER: \n",
            "Mean = [1.11022302e-16 0.00000000e+00 2.77555756e-17]\n",
            "Std deviation = [1. 1. 1.]\n"
          ]
        }
      ]
    },
    {
      "cell_type": "markdown",
      "source": [
        "2.1.3. Масштабування"
      ],
      "metadata": {
        "id": "lvglYcH7K1nB"
      }
    },
    {
      "cell_type": "code",
      "source": [
        "# Масштабування MinМax\n",
        "data_scaler_minmax = preprocessing.MinMaxScaler(feature_range=(0, 1))\n",
        "data_scaled_minmax = data_scaler_minmax.fit_transform(input_data)\n",
        "print(\"\\nМin max scaled data:\\n\", data_scaled_minmax)\n"
      ],
      "metadata": {
        "colab": {
          "base_uri": "https://localhost:8080/"
        },
        "id": "5D6LqgYcK2sb",
        "outputId": "23360c0b-d06f-4e07-fa5e-69a7e9234b93"
      },
      "execution_count": 10,
      "outputs": [
        {
          "output_type": "stream",
          "name": "stdout",
          "text": [
            "\n",
            "Мin max scaled data:\n",
            " [[0.74117647 0.39548023 1.        ]\n",
            " [0.         1.         0.        ]\n",
            " [0.6        0.5819209  0.87234043]\n",
            " [1.         0.         0.17021277]]\n"
          ]
        }
      ]
    },
    {
      "cell_type": "markdown",
      "source": [
        "2.1.4. Нормалізація"
      ],
      "metadata": {
        "id": "EFnPUWzdLLX8"
      }
    },
    {
      "cell_type": "code",
      "source": [
        "# Нормалізація даних\n",
        "data_normalized_l1 = preprocessing.normalize(input_data,\n",
        "norm='l1')\n",
        "data_normalized_l2 = preprocessing.normalize(input_data,\n",
        "norm='l2')\n",
        "print(\"\\nl1 normalized data:\\n\", data_normalized_l1)\n",
        "print(\"\\nl2 normalized data:\\n\", data_normalized_l2)"
      ],
      "metadata": {
        "colab": {
          "base_uri": "https://localhost:8080/"
        },
        "id": "h6AOd4RALL04",
        "outputId": "249d1aba-5558-4df3-c9a5-95ee3b58cb1b"
      },
      "execution_count": 11,
      "outputs": [
        {
          "output_type": "stream",
          "name": "stdout",
          "text": [
            "\n",
            "l1 normalized data:\n",
            " [[ 0.45132743 -0.25663717  0.2920354 ]\n",
            " [-0.0794702   0.51655629 -0.40397351]\n",
            " [ 0.609375    0.0625      0.328125  ]\n",
            " [ 0.33640553 -0.4562212  -0.20737327]]\n",
            "\n",
            "l2 normalized data:\n",
            " [[ 0.75765788 -0.43082507  0.49024922]\n",
            " [-0.12030718  0.78199664 -0.61156148]\n",
            " [ 0.87690281  0.08993875  0.47217844]\n",
            " [ 0.55734935 -0.75585734 -0.34357152]]\n"
          ]
        }
      ]
    }
  ]
}